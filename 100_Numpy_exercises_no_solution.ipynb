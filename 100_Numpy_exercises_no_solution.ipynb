{
 "cells": [
  {
   "cell_type": "markdown",
   "metadata": {},
   "source": [
    "# 100 numpy exercises\n",
    "\n",
    "This is a collection of exercises that have been collected in the numpy mailing list, on stack overflow and in the numpy documentation. The goal of this collection is to offer a quick reference for both old and new users but also to provide a set of exercises for those who teach.\n",
    "\n",
    "\n",
    "If you find an error or think you've a better way to solve some of them, feel free to open an issue at <https://github.com/rougier/numpy-100>"
   ]
  },
  {
   "cell_type": "markdown",
   "metadata": {},
   "source": [
    "#### 1. Import the numpy package under the name `np` (★☆☆)"
   ]
  },
  {
   "cell_type": "code",
   "execution_count": 1,
   "metadata": {},
   "outputs": [],
   "source": [
    "import numpy as np"
   ]
  },
  {
   "cell_type": "markdown",
   "metadata": {},
   "source": [
    "#### 2. Print the numpy version and the configuration (★☆☆)"
   ]
  },
  {
   "cell_type": "code",
   "execution_count": null,
   "metadata": {},
   "outputs": [],
   "source": []
  },
  {
   "cell_type": "markdown",
   "metadata": {},
   "source": [
    "#### 3. Create a null vector of size 10 (★☆☆)"
   ]
  },
  {
   "cell_type": "code",
   "execution_count": 52,
   "metadata": {},
   "outputs": [
    {
     "data": {
      "text/plain": [
       "array([0., 0., 0., 0., 0., 0., 0., 0., 0., 0.])"
      ]
     },
     "execution_count": 52,
     "metadata": {},
     "output_type": "execute_result"
    }
   ],
   "source": [
    "np.zeros(10)"
   ]
  },
  {
   "cell_type": "markdown",
   "metadata": {},
   "source": [
    "#### 4.  How to find the memory size of any array (★☆☆)"
   ]
  },
  {
   "cell_type": "code",
   "execution_count": null,
   "metadata": {},
   "outputs": [],
   "source": []
  },
  {
   "cell_type": "markdown",
   "metadata": {},
   "source": [
    "#### 5.  How to get the documentation of the numpy add function from the command line? (★☆☆)"
   ]
  },
  {
   "cell_type": "code",
   "execution_count": null,
   "metadata": {
    "collapsed": true
   },
   "outputs": [],
   "source": []
  },
  {
   "cell_type": "markdown",
   "metadata": {},
   "source": [
    "#### 6.  Create a null vector of size 10 but the fifth value which is 1 (★☆☆)"
   ]
  },
  {
   "cell_type": "code",
   "execution_count": 3,
   "metadata": {},
   "outputs": [
    {
     "name": "stdout",
     "output_type": "stream",
     "text": [
      "[0. 0. 0. 0. 1. 0. 0. 0. 0. 0.]\n"
     ]
    }
   ],
   "source": [
    "a = np.zeros(10)\n",
    "a[4] = 1\n",
    "print(a)"
   ]
  },
  {
   "cell_type": "markdown",
   "metadata": {},
   "source": [
    "#### 7.  Create a vector with values ranging from 10 to 49 (★☆☆)"
   ]
  },
  {
   "cell_type": "code",
   "execution_count": 4,
   "metadata": {},
   "outputs": [
    {
     "data": {
      "text/plain": [
       "array([10, 11, 12, 13, 14, 15, 16, 17, 18, 19, 20, 21, 22, 23, 24, 25, 26,\n",
       "       27, 28, 29, 30, 31, 32, 33, 34, 35, 36, 37, 38, 39, 40, 41, 42, 43,\n",
       "       44, 45, 46, 47, 48, 49])"
      ]
     },
     "execution_count": 4,
     "metadata": {},
     "output_type": "execute_result"
    }
   ],
   "source": [
    "np.arange(10,50)"
   ]
  },
  {
   "cell_type": "markdown",
   "metadata": {},
   "source": [
    "#### 8.  Reverse a vector (first element becomes last) (★☆☆)"
   ]
  },
  {
   "cell_type": "code",
   "execution_count": 7,
   "metadata": {},
   "outputs": [
    {
     "data": {
      "text/plain": [
       "array([49, 48, 47, 46, 45, 44, 43, 42, 41, 40, 39, 38, 37, 36, 35, 34, 33,\n",
       "       32, 31, 30, 29, 28, 27, 26, 25, 24, 23, 22, 21, 20, 19, 18, 17, 16,\n",
       "       15, 14, 13, 12, 11, 10])"
      ]
     },
     "execution_count": 7,
     "metadata": {},
     "output_type": "execute_result"
    }
   ],
   "source": [
    "a = np.arange(10,50)\n",
    "np.flip(a)"
   ]
  },
  {
   "cell_type": "markdown",
   "metadata": {},
   "source": [
    "#### 9.  Create a 3x3 matrix with values ranging from 0 to 8 (★☆☆)"
   ]
  },
  {
   "cell_type": "code",
   "execution_count": 1,
   "metadata": {},
   "outputs": [
    {
     "ename": "NameError",
     "evalue": "name 'np' is not defined",
     "output_type": "error",
     "traceback": [
      "\u001b[1;31m---------------------------------------------------------------------------\u001b[0m",
      "\u001b[1;31mNameError\u001b[0m                                 Traceback (most recent call last)",
      "\u001b[1;32m<ipython-input-1-20a42a0d887b>\u001b[0m in \u001b[0;36m<module>\u001b[1;34m\u001b[0m\n\u001b[1;32m----> 1\u001b[1;33m \u001b[0ma\u001b[0m \u001b[1;33m=\u001b[0m \u001b[0mnp\u001b[0m\u001b[1;33m.\u001b[0m\u001b[0marange\u001b[0m\u001b[1;33m(\u001b[0m\u001b[1;36m9\u001b[0m\u001b[1;33m)\u001b[0m\u001b[1;33m.\u001b[0m\u001b[0mreshape\u001b[0m\u001b[1;33m(\u001b[0m\u001b[1;33m(\u001b[0m\u001b[1;36m3\u001b[0m\u001b[1;33m,\u001b[0m\u001b[1;36m3\u001b[0m\u001b[1;33m)\u001b[0m\u001b[1;33m)\u001b[0m\u001b[1;33m\u001b[0m\u001b[1;33m\u001b[0m\u001b[0m\n\u001b[0m\u001b[0;32m      2\u001b[0m \u001b[0mprint\u001b[0m\u001b[1;33m(\u001b[0m\u001b[0ma\u001b[0m\u001b[1;33m)\u001b[0m\u001b[1;33m\u001b[0m\u001b[1;33m\u001b[0m\u001b[0m\n",
      "\u001b[1;31mNameError\u001b[0m: name 'np' is not defined"
     ]
    }
   ],
   "source": [
    "a = np.arange(9).reshape((3,3))\n",
    "print(a)"
   ]
  },
  {
   "cell_type": "markdown",
   "metadata": {},
   "source": [
    "#### 10. Find indices of non-zero elements from \\[1,2,0,0,4,0\\] (★☆☆)"
   ]
  },
  {
   "cell_type": "code",
   "execution_count": 32,
   "metadata": {},
   "outputs": [
    {
     "data": {
      "text/plain": [
       "(array([0, 1, 4], dtype=int64),)"
      ]
     },
     "execution_count": 32,
     "metadata": {},
     "output_type": "execute_result"
    }
   ],
   "source": [
    "i = np.array([1,2,0,0,4,0])\n",
    "np.where(i != 0)"
   ]
  },
  {
   "cell_type": "markdown",
   "metadata": {},
   "source": [
    "#### 11. Create a 3x3 identity matrix (★☆☆)"
   ]
  },
  {
   "cell_type": "code",
   "execution_count": 34,
   "metadata": {},
   "outputs": [
    {
     "data": {
      "text/plain": [
       "array([[1., 0., 0.],\n",
       "       [0., 1., 0.],\n",
       "       [0., 0., 1.]])"
      ]
     },
     "execution_count": 34,
     "metadata": {},
     "output_type": "execute_result"
    }
   ],
   "source": [
    "np.identity((3))"
   ]
  },
  {
   "cell_type": "markdown",
   "metadata": {},
   "source": [
    "#### 12. Create a 3x3x3 array with random values (★☆☆)"
   ]
  },
  {
   "cell_type": "code",
   "execution_count": 36,
   "metadata": {},
   "outputs": [
    {
     "data": {
      "text/plain": [
       "array([[[19, 10, 14],\n",
       "        [18,  2, 16],\n",
       "        [20,  8, 12]],\n",
       "\n",
       "       [[ 6,  5,  6],\n",
       "        [16, 16, 16],\n",
       "        [ 2,  3, 26]],\n",
       "\n",
       "       [[ 8,  5, 18],\n",
       "        [ 8, 18,  3],\n",
       "        [15,  6, 22]]])"
      ]
     },
     "execution_count": 36,
     "metadata": {},
     "output_type": "execute_result"
    }
   ],
   "source": [
    "np.random.randint(27, size=(3,3,3))"
   ]
  },
  {
   "cell_type": "markdown",
   "metadata": {},
   "source": [
    "#### 13. Create a 10x10 array with random values and find the minimum and maximum values (★☆☆)"
   ]
  },
  {
   "cell_type": "code",
   "execution_count": 40,
   "metadata": {},
   "outputs": [
    {
     "name": "stdout",
     "output_type": "stream",
     "text": [
      "[[71 30 13 50 50 46 95 18 59 89]\n",
      " [26 43 16 52 19 46 33 61 53 40]\n",
      " [10 64 47 33 83 41 10 87 88  7]\n",
      " [ 7 23 15 74 92 89  8 58 44 23]\n",
      " [85 91 74 88 69 47 86 82 30 96]\n",
      " [66 67 80 51 56 59 19 23 53 15]\n",
      " [62 24 76 18 88 42 90 73 40 55]\n",
      " [96 92  8 20 81 30 25 71 26  5]\n",
      " [62 71 11 77 84 95 22 27 71 76]\n",
      " [23 66 59 85 26 60 97  1 21 34]]\n",
      "1\n",
      "97\n"
     ]
    }
   ],
   "source": [
    "a = np.random.randint(100,size=(10,10))\n",
    "print(a)\n",
    "print(np.min(a))\n",
    "print(np.max(a))"
   ]
  },
  {
   "cell_type": "markdown",
   "metadata": {},
   "source": [
    "#### 14. Create a random vector of size 30 and find the mean value (★☆☆)"
   ]
  },
  {
   "cell_type": "code",
   "execution_count": 41,
   "metadata": {},
   "outputs": [
    {
     "data": {
      "text/plain": [
       "49.39"
      ]
     },
     "execution_count": 41,
     "metadata": {},
     "output_type": "execute_result"
    }
   ],
   "source": [
    "a = np.random.randint(100, size = 100)\n",
    "np.mean(a)"
   ]
  },
  {
   "cell_type": "markdown",
   "metadata": {},
   "source": [
    "#### 15. Create a 2d array with 1 on the border and 0 inside (★☆☆)"
   ]
  },
  {
   "cell_type": "code",
   "execution_count": 53,
   "metadata": {},
   "outputs": [
    {
     "data": {
      "text/plain": [
       "array([[1., 1., 1., 1., 1., 1., 1., 1., 1., 1., 1., 1.],\n",
       "       [1., 0., 0., 0., 0., 0., 0., 0., 0., 0., 0., 1.],\n",
       "       [1., 0., 0., 0., 0., 0., 0., 0., 0., 0., 0., 1.],\n",
       "       [1., 0., 0., 0., 0., 0., 0., 0., 0., 0., 0., 1.],\n",
       "       [1., 0., 0., 0., 0., 0., 0., 0., 0., 0., 0., 1.],\n",
       "       [1., 0., 0., 0., 0., 0., 0., 0., 0., 0., 0., 1.],\n",
       "       [1., 0., 0., 0., 0., 0., 0., 0., 0., 0., 0., 1.],\n",
       "       [1., 0., 0., 0., 0., 0., 0., 0., 0., 0., 0., 1.],\n",
       "       [1., 0., 0., 0., 0., 0., 0., 0., 0., 0., 0., 1.],\n",
       "       [1., 0., 0., 0., 0., 0., 0., 0., 0., 0., 0., 1.],\n",
       "       [1., 0., 0., 0., 0., 0., 0., 0., 0., 0., 0., 1.],\n",
       "       [1., 1., 1., 1., 1., 1., 1., 1., 1., 1., 1., 1.]])"
      ]
     },
     "execution_count": 53,
     "metadata": {},
     "output_type": "execute_result"
    }
   ],
   "source": [
    "a = np.zeros((10,10))\n",
    "np.pad(a,pad_width = 1, mode = 'constant', constant_values = 1)"
   ]
  },
  {
   "cell_type": "markdown",
   "metadata": {},
   "source": [
    "#### 16. How to add a border (filled with 0's) around an existing array? (★☆☆)"
   ]
  },
  {
   "cell_type": "code",
   "execution_count": 55,
   "metadata": {},
   "outputs": [
    {
     "data": {
      "text/plain": [
       "array([[ 0,  0,  0,  0,  0,  0,  0,  0,  0,  0,  0,  0],\n",
       "       [ 0, 17, 27, 78, 68,  4,  4, 19, 87, 90, 58,  0],\n",
       "       [ 0, 46, 33, 54,  3,  5, 81, 67, 59, 60, 89,  0],\n",
       "       [ 0, 86, 24, 41, 33, 55, 83, 88,  6, 34, 66,  0],\n",
       "       [ 0, 49, 40,  7, 74,  4, 82, 51, 62, 91, 50,  0],\n",
       "       [ 0, 76, 28, 31, 22, 21, 84, 39, 24, 17, 46,  0],\n",
       "       [ 0, 82, 29, 57, 97, 37, 68, 30, 31, 38, 99,  0],\n",
       "       [ 0, 49, 99, 11, 78, 84, 64, 30, 43,  9, 91,  0],\n",
       "       [ 0, 91, 37,  6, 12, 49, 50, 89, 38, 36, 15,  0],\n",
       "       [ 0, 50, 38, 54, 91, 80, 75, 56, 54, 66, 80,  0],\n",
       "       [ 0, 37, 16, 49, 78, 42, 60, 82, 86, 57, 19,  0],\n",
       "       [ 0,  0,  0,  0,  0,  0,  0,  0,  0,  0,  0,  0]])"
      ]
     },
     "execution_count": 55,
     "metadata": {},
     "output_type": "execute_result"
    }
   ],
   "source": [
    "a = np.random.randint(100,size = (10,10))\n",
    "np.pad(a,pad_width = 1, mode = 'constant', constant_values = 0)"
   ]
  },
  {
   "cell_type": "markdown",
   "metadata": {},
   "source": [
    "#### 17. What is the result of the following expression? (★☆☆)"
   ]
  },
  {
   "cell_type": "markdown",
   "metadata": {},
   "source": [
    "```python\n",
    "0 * np.nan\n",
    "np.nan == np.nan\n",
    "np.inf > np.nan\n",
    "np.nan - np.nan\n",
    "np.nan in set([np.nan])\n",
    "0.3 == 3 * 0.1\n",
    "```"
   ]
  },
  {
   "cell_type": "code",
   "execution_count": 63,
   "metadata": {},
   "outputs": [
    {
     "data": {
      "text/plain": [
       "False"
      ]
     },
     "execution_count": 63,
     "metadata": {},
     "output_type": "execute_result"
    }
   ],
   "source": [
    "0 * np.nan #nan\n",
    "np.nan == np.nan #False\n",
    "np.inf> np.nan #False\n",
    "np.nan-np.nan #np.nan\n",
    "np.nan in set([np.nan]) #True\n",
    "0.3 == 3 * 0.1 #False"
   ]
  },
  {
   "cell_type": "markdown",
   "metadata": {},
   "source": [
    "#### 18. Create a 5x5 matrix with values 1,2,3,4 just below the diagonal (★☆☆)"
   ]
  },
  {
   "cell_type": "code",
   "execution_count": 4,
   "metadata": {},
   "outputs": [
    {
     "name": "stdout",
     "output_type": "stream",
     "text": [
      "[[0 0 0 0 0]\n",
      " [1 0 0 0 0]\n",
      " [0 2 0 0 0]\n",
      " [0 0 3 0 0]\n",
      " [0 0 0 4 0]]\n"
     ]
    }
   ],
   "source": [
    "n = np.diag([1,2,3,4], -1)\n",
    "print(n)"
   ]
  },
  {
   "cell_type": "markdown",
   "metadata": {},
   "source": [
    "#### 19. Create a 8x8 matrix and fill it with a checkerboard pattern (★☆☆)"
   ]
  },
  {
   "cell_type": "code",
   "execution_count": 8,
   "metadata": {},
   "outputs": [
    {
     "name": "stdout",
     "output_type": "stream",
     "text": [
      "[[1 0 1 0 1 0 1 0]\n",
      " [0 1 0 1 0 1 0 1]\n",
      " [1 0 1 0 1 0 1 0]\n",
      " [0 1 0 1 0 1 0 1]\n",
      " [1 0 1 0 1 0 1 0]\n",
      " [0 1 0 1 0 1 0 1]\n",
      " [1 0 1 0 1 0 1 0]\n",
      " [0 1 0 1 0 1 0 1]]\n"
     ]
    }
   ],
   "source": [
    "n = np.zeros((8,8), dtype=int)\n",
    "n[::2,::2] = 1\n",
    "n[1::2,1::2] = 1\n",
    "print(n)"
   ]
  },
  {
   "cell_type": "markdown",
   "metadata": {},
   "source": [
    "#### 20. Consider a (6,7,8) shape array, what is the index (x,y,z) of the 100th element?"
   ]
  },
  {
   "cell_type": "code",
   "execution_count": 15,
   "metadata": {},
   "outputs": [
    {
     "name": "stdout",
     "output_type": "stream",
     "text": [
      "[1] [5] [4]\n"
     ]
    }
   ],
   "source": [
    "n = np.arange(6*7*8).reshape((6,7,8))\n",
    "i,j,k = np.where(n == 100)\n",
    "print(i,j,k)\n",
    "#1,5,4"
   ]
  },
  {
   "cell_type": "markdown",
   "metadata": {},
   "source": [
    "#### 21. Create a checkerboard 8x8 matrix using the tile function (★☆☆)"
   ]
  },
  {
   "cell_type": "code",
   "execution_count": 19,
   "metadata": {},
   "outputs": [
    {
     "data": {
      "text/plain": [
       "array([[1, 0, 1, 0, 1, 0, 1, 0],\n",
       "       [0, 1, 0, 1, 0, 1, 0, 1],\n",
       "       [1, 0, 1, 0, 1, 0, 1, 0],\n",
       "       [0, 1, 0, 1, 0, 1, 0, 1],\n",
       "       [1, 0, 1, 0, 1, 0, 1, 0],\n",
       "       [0, 1, 0, 1, 0, 1, 0, 1],\n",
       "       [1, 0, 1, 0, 1, 0, 1, 0],\n",
       "       [0, 1, 0, 1, 0, 1, 0, 1]])"
      ]
     },
     "execution_count": 19,
     "metadata": {},
     "output_type": "execute_result"
    }
   ],
   "source": [
    "a = np.zeros((2,2), dtype = int)\n",
    "a[0,0] = 1\n",
    "a[1,1] = 1\n",
    "np.tile(a, (4,4))"
   ]
  },
  {
   "cell_type": "markdown",
   "metadata": {},
   "source": [
    "#### 22. Normalize a 5x5 random matrix (★☆☆)"
   ]
  },
  {
   "cell_type": "code",
   "execution_count": 30,
   "metadata": {},
   "outputs": [
    {
     "name": "stdout",
     "output_type": "stream",
     "text": [
      "[[25 27 29 31 33]\n",
      " [35 37 39 41 43]\n",
      " [45 47 49 51 53]\n",
      " [55 57 59 61 63]\n",
      " [65 67 69 71 73]]\n"
     ]
    },
    {
     "data": {
      "text/plain": [
       "array([[0.09788879, 0.10571989, 0.113551  , 0.1213821 , 0.1292132 ],\n",
       "       [0.13704431, 0.14487541, 0.15270651, 0.16053762, 0.16836872],\n",
       "       [0.17619982, 0.18403093, 0.19186203, 0.19969313, 0.20752424],\n",
       "       [0.21535534, 0.22318644, 0.23101755, 0.23884865, 0.24667975],\n",
       "       [0.25451086, 0.26234196, 0.27017306, 0.27800417, 0.28583527]])"
      ]
     },
     "execution_count": 30,
     "metadata": {},
     "output_type": "execute_result"
    }
   ],
   "source": [
    "n = np.arange(25,75,2).reshape((5,5))\n",
    "print(n)\n",
    "n / np.linalg.norm(n)\n"
   ]
  },
  {
   "cell_type": "markdown",
   "metadata": {},
   "source": [
    "#### 23. Create a custom dtype that describes a color as four unsigned bytes (RGBA) (★☆☆)"
   ]
  },
  {
   "cell_type": "code",
   "execution_count": null,
   "metadata": {
    "collapsed": true
   },
   "outputs": [],
   "source": []
  },
  {
   "cell_type": "markdown",
   "metadata": {},
   "source": [
    "#### 24. Multiply a 5x3 matrix by a 3x2 matrix (real matrix product) (★☆☆)"
   ]
  },
  {
   "cell_type": "code",
   "execution_count": 31,
   "metadata": {},
   "outputs": [
    {
     "data": {
      "text/plain": [
       "array([[ 10,  13],\n",
       "       [ 28,  40],\n",
       "       [ 46,  67],\n",
       "       [ 64,  94],\n",
       "       [ 82, 121]])"
      ]
     },
     "execution_count": 31,
     "metadata": {},
     "output_type": "execute_result"
    }
   ],
   "source": [
    "a = np.arange(15).reshape(5,3)\n",
    "b = np.arange(6).reshape(3,2)\n",
    "np.dot(a,b)"
   ]
  },
  {
   "cell_type": "markdown",
   "metadata": {},
   "source": [
    "#### 25. Given a 1D array, negate all elements which are between 3 and 8, in place. (★☆☆)"
   ]
  },
  {
   "cell_type": "code",
   "execution_count": 49,
   "metadata": {},
   "outputs": [
    {
     "name": "stdout",
     "output_type": "stream",
     "text": [
      "[15  6  9 12 15  9 10  3  2  6  4 13  2  0  4  1 16 17 19  3  5  2 18 14\n",
      " 16  3 14 15 10 19 15  4 17  5  8 14 13 18 16  2  9 10  9 10  9 14  5 16\n",
      "  0 15  5 14 10  2  1  4  4 13  4  6  2  8 10 12 13  0  7  1  9  0 10  0\n",
      " 14 10  1 19 16  6  4 10 16  4 18  2  0 17 10 15  3 17  9 19 15 10 15 12\n",
      " 17 17  0 14]\n",
      "[-15  -6  -9 -12 -15  -9 -10  -3  -2  -6  -4 -13  -2   0  -4  -1 -16 -17\n",
      " -19  -3  -5  -2 -18 -14 -16  -3 -14 -15 -10 -19 -15  -4 -17  -5  -8 -14\n",
      " -13 -18 -16  -2  -9 -10  -9 -10  -9 -14  -5 -16   0 -15  -5 -14 -10  -2\n",
      "  -1  -4  -4 -13  -4  -6  -2  -8 -10 -12 -13   0  -7  -1  -9   0 -10   0\n",
      " -14 -10  -1 -19 -16  -6  -4 -10 -16  -4 -18  -2   0 -17 -10 -15  -3 -17\n",
      "  -9 -19 -15 -10 -15 -12 -17 -17   0 -14]\n"
     ]
    }
   ],
   "source": [
    "a = np.random.randint(20, size = 100)\n",
    "print(a)\n",
    "a = np.where(a > 8 , a, -a)\n",
    "a = np.where(a < 3, a, -a)\n",
    "print(a)\n"
   ]
  },
  {
   "cell_type": "markdown",
   "metadata": {},
   "source": [
    "#### 26. What is the output of the following script? (★☆☆)"
   ]
  },
  {
   "cell_type": "markdown",
   "metadata": {},
   "source": [
    "```python\n",
    "# Author: Jake VanderPlas\n",
    "\n",
    "print(sum(range(5),-1))\n",
    "from numpy import *\n",
    "print(sum(range(5),-1))\n",
    "```"
   ]
  },
  {
   "cell_type": "code",
   "execution_count": 2,
   "metadata": {},
   "outputs": [
    {
     "name": "stdout",
     "output_type": "stream",
     "text": [
      "9\n",
      "10\n"
     ]
    }
   ],
   "source": [
    "print(sum(range(5),-1))\n",
    "from numpy import *\n",
    "print(sum(range(5),-1))\n",
    "\n",
    "#9 then 10\n",
    "# normal sum takes -1 and adds the iterable to it\n",
    "#numpy sum takes the iterable and adds from the -1st axis (in a 1d array it doesnt really matter)"
   ]
  },
  {
   "cell_type": "markdown",
   "metadata": {},
   "source": [
    "#### 27. Consider an integer vector Z, which of these expressions are legal? (★☆☆)"
   ]
  },
  {
   "cell_type": "markdown",
   "metadata": {},
   "source": [
    "```python\n",
    "Z**Z\n",
    "2 << Z >> 2\n",
    "Z <- Z\n",
    "1j*Z\n",
    "Z/1/1\n",
    "Z<Z>Z\n",
    "```"
   ]
  },
  {
   "cell_type": "code",
   "execution_count": null,
   "metadata": {},
   "outputs": [],
   "source": []
  },
  {
   "cell_type": "markdown",
   "metadata": {},
   "source": [
    "#### 28. What are the result of the following expressions?"
   ]
  },
  {
   "cell_type": "markdown",
   "metadata": {},
   "source": [
    "```python\n",
    "np.array(0) / np.array(0)\n",
    "np.array(0) // np.array(0)\n",
    "np.array([np.nan]).astype(int).astype(float)\n",
    "```"
   ]
  },
  {
   "cell_type": "code",
   "execution_count": 9,
   "metadata": {},
   "outputs": [
    {
     "data": {
      "text/plain": [
       "array([-2.14748365e+09])"
      ]
     },
     "execution_count": 9,
     "metadata": {},
     "output_type": "execute_result"
    }
   ],
   "source": [
    "# np.array(0) / np.array(0) #nan/ error\n",
    "# np.array(0) // np.array(0) #0/ divide by 0 error\n",
    "np.array([np.nan]).astype(int).astype(float) #single element array with a very small value"
   ]
  },
  {
   "cell_type": "markdown",
   "metadata": {},
   "source": [
    "#### 29. How to round away from zero a float array ? (★☆☆)"
   ]
  },
  {
   "cell_type": "code",
   "execution_count": 17,
   "metadata": {},
   "outputs": [
    {
     "name": "stdout",
     "output_type": "stream",
     "text": [
      "[ 22.65541502 -47.31472595 -16.73115048 -35.47699817 -49.88524547\n",
      "  21.03014495  20.98483576 -39.43065813 -28.96009493 -21.31793399\n",
      "   7.16183994 -35.40440974  38.3466971   17.37995659 -11.31166135\n",
      "   1.83425423  25.12996846  37.51555408  44.4888049  -37.92680451\n",
      "  -7.35588309   6.07894364  16.56880653 -18.30097147 -48.19898115\n",
      "  10.22936149 -22.16204916 -13.49884234  45.02781605 -29.54738028\n",
      " -10.24162322   5.73496187  49.96111685 -45.89927508  40.99419106\n",
      " -36.53959326   3.07968586  41.45887985 -35.79756492  -3.18467092\n",
      " -16.72606402  31.85762154 -24.21151737 -20.08430965  26.2950893\n",
      "  15.28967023  32.87289951 -28.80384539  -6.88907091 -16.85873138\n",
      "  33.32454465 -49.54654683  44.64782015  -6.61584834  48.79164539\n",
      "  16.1313653   -1.86733966 -33.48809565  14.31860143 -23.22563823\n",
      "   7.42698145  12.75421849 -35.80144919 -47.63964764  29.59998635\n",
      "  46.19186927  19.42686036  -3.40200653 -31.09769835 -40.20172407\n",
      "  29.27174837 -23.22371701 -40.29695195 -36.82327901 -47.06541589\n",
      " -45.38242728  23.32698958 -20.92432891 -23.07536237 -10.50340826\n",
      "  13.61020707 -17.1976828    3.34353188 -35.80873779 -41.7431932\n",
      "  33.74746402 -10.67800859 -46.14669128 -37.59888486   5.80448731\n",
      "  31.50687193  39.7341663  -24.06404548   6.94300619 -10.81358123\n",
      " -41.63066571 -36.46964164  34.91136565   0.91547553 -35.70468877]\n",
      "[ 23. -48. -17. -36. -50.  22.  21. -40. -29. -22.   8. -36.  39.  18.\n",
      " -12.   2.  26.  38.  45. -38.  -8.   7.  17. -19. -49.  11. -23. -14.\n",
      "  46. -30. -11.   6.  50. -46.  41. -37.   4.  42. -36.  -4. -17.  32.\n",
      " -25. -21.  27.  16.  33. -29.  -7. -17.  34. -50.  45.  -7.  49.  17.\n",
      "  -2. -34.  15. -24.   8.  13. -36. -48.  30.  47.  20.  -4. -32. -41.\n",
      "  30. -24. -41. -37. -48. -46.  24. -21. -24. -11.  14. -18.   4. -36.\n",
      " -42.  34. -11. -47. -38.   6.  32.  40. -25.   7. -11. -42. -37.  35.\n",
      "   1. -36.]\n"
     ]
    }
   ],
   "source": [
    "a = (np.random.random(size=100)-0.5) * 100\n",
    "print(a)\n",
    "a = np.where(a < 0, np.floor(a),np.ceil(a))\n",
    "print(a)"
   ]
  },
  {
   "cell_type": "markdown",
   "metadata": {},
   "source": [
    "#### 30. How to find common values between two arrays? (★☆☆)"
   ]
  },
  {
   "cell_type": "code",
   "execution_count": 20,
   "metadata": {},
   "outputs": [
    {
     "name": "stdout",
     "output_type": "stream",
     "text": [
      "[ 8  9  3 14 13  5 11  7  3 10 19  1  6 18  4  3  5 11  1 17]\n",
      "[19  0 15  7 10  4  3 13 13  4 11  1  4  6  1  6 13  6  2 19]\n"
     ]
    },
    {
     "data": {
      "text/plain": [
       "array([ 1,  3,  4,  6,  7, 10, 11, 13, 19])"
      ]
     },
     "execution_count": 20,
     "metadata": {},
     "output_type": "execute_result"
    }
   ],
   "source": [
    "a = np.random.randint(20,size = 20)\n",
    "b = np.random.randint(20,size = 20)\n",
    "print(a)\n",
    "print(b)\n",
    "np.intersect1d(a,b)"
   ]
  },
  {
   "cell_type": "markdown",
   "metadata": {},
   "source": [
    "#### 31. How to ignore all numpy warnings (not recommended)? (★☆☆)"
   ]
  },
  {
   "cell_type": "code",
   "execution_count": null,
   "metadata": {},
   "outputs": [],
   "source": []
  },
  {
   "cell_type": "markdown",
   "metadata": {},
   "source": [
    "#### 32. Is the following expressions true? (★☆☆)"
   ]
  },
  {
   "cell_type": "markdown",
   "metadata": {},
   "source": [
    "```python\n",
    "np.sqrt(-1) == np.emath.sqrt(-1)\n",
    "```"
   ]
  },
  {
   "cell_type": "code",
   "execution_count": null,
   "metadata": {},
   "outputs": [],
   "source": []
  },
  {
   "cell_type": "markdown",
   "metadata": {},
   "source": [
    "#### 33. How to get the dates of yesterday, today and tomorrow? (★☆☆)"
   ]
  },
  {
   "cell_type": "code",
   "execution_count": null,
   "metadata": {
    "collapsed": true
   },
   "outputs": [],
   "source": []
  },
  {
   "cell_type": "markdown",
   "metadata": {},
   "source": [
    "#### 34. How to get all the dates corresponding to the month of July 2016? (★★☆)"
   ]
  },
  {
   "cell_type": "code",
   "execution_count": null,
   "metadata": {},
   "outputs": [],
   "source": []
  },
  {
   "cell_type": "markdown",
   "metadata": {},
   "source": [
    "#### 35. How to compute ((A+B)\\*(-A/2)) in place (without copy)? (★★☆)"
   ]
  },
  {
   "cell_type": "code",
   "execution_count": 11,
   "metadata": {},
   "outputs": [
    {
     "name": "stdout",
     "output_type": "stream",
     "text": [
      "[[ -102.   -450.  -1311.5   -95.   -676.5   -33.  -1504.  -1782.   -279.5\n",
      "   -110. ]\n",
      " [ -958.5    -0.  -1165.5 -1165.5  -850.5   -22.   -360.   -567.   -797.5\n",
      "   -126. ]\n",
      " [ -273.  -1218.   -649.   -826.5 -1935.    -57.   -901.  -1568.   -725.\n",
      "  -1050. ]\n",
      " [-1265.  -1408.  -1827.   -525.  -1980.   -704.   -590.    -74.   -533.\n",
      "   -192. ]\n",
      " [-1369.   -736.   -672.   -850.   -957.  -1044.    -67.5  -850.5 -1440.5\n",
      "    -15. ]\n",
      " [-1365.  -1580.   -759.   -427.   -187.   -115.   -782.    -80.   -297.\n",
      "   -576. ]\n",
      " [ -196.    -60.   -710.5  -882.   -832.   -171.   -957.   -742.5  -675.\n",
      "   -799. ]\n",
      " [   -0.  -1548.  -1956.5  -701.5  -230.   -243.   -986.  -1363.   -115.\n",
      "  -1403. ]\n",
      " [ -884.5  -273.   -493.5  -420.   -738.   -510.   -612.5  -944.   -299.\n",
      "   -247.5]\n",
      " [-1202.5  -792.   -496.   -139.5  -924.5  -275.    -88.   -220.    -45.\n",
      "     -0. ]]\n",
      "aaa\n",
      "[[-4251.  -6230.5 -7301.5 -4895.5 -6731.  -3152.  -5760.  -7323.5 -4307.\n",
      "  -4804. ]\n",
      " [-5314.5 -7413.5 -7796.5 -5085.5 -7533.5 -3654.5 -6184.  -7311.5 -4988.5\n",
      "  -4574. ]\n",
      " [-7167.5 -7586.  -8979.  -6343.  -8982.5 -4242.5 -5879.5 -7459.  -5981.\n",
      "  -4893. ]\n",
      " [-6880.  -7807.5 -8656.  -6465.  -8542.  -3734.  -6921.  -7925.5 -6680.\n",
      "  -5295. ]\n",
      " [-6680.  -8084.5 -8995.  -5970.  -8064.5 -3880.  -7321.5 -7489.  -5924.\n",
      "  -5519.5]\n",
      " [-6101.5 -7016.  -8425.  -5929.  -7988.  -2999.  -6700.5 -6889.5 -5479.5\n",
      "  -4777.5]\n",
      " [-5694.5 -6793.5 -7590.5 -5086.5 -7685.  -3748.5 -5614.  -6613.  -4957.\n",
      "  -4314.5]\n",
      " [-6486.  -7339.  -8540.  -6495.  -8531.5 -3485.5 -6208.5 -7255.5 -5754.\n",
      "  -5389.5]\n",
      " [-5748.5 -7129.5 -8000.5 -5312.5 -7337.  -3342.  -6385.  -6683.  -5011.5\n",
      "  -4916.5]\n",
      " [-5030.  -5952.5 -7183.  -4738.5 -6157.  -2697.  -5730.  -6012.  -4573.5\n",
      "  -4154. ]]\n"
     ]
    }
   ],
   "source": [
    "#assuming A and B are matrices\n",
    "\n",
    "A = np.random.randint(50, size=(10,10))\n",
    "B = np.random.randint(50, size=(10,10))\n",
    "print((A + B) * (-A/2))\n",
    "print('aaa')\n",
    "print(np.dot((A + B), -(A/2)))"
   ]
  },
  {
   "cell_type": "markdown",
   "metadata": {},
   "source": [
    "#### 36. Extract the integer part of a random array using 5 different methods (★★☆)"
   ]
  },
  {
   "cell_type": "code",
   "execution_count": null,
   "metadata": {},
   "outputs": [],
   "source": []
  },
  {
   "cell_type": "markdown",
   "metadata": {},
   "source": [
    "#### 37. Create a 5x5 matrix with row values ranging from 0 to 4 (★★☆)"
   ]
  },
  {
   "cell_type": "code",
   "execution_count": 22,
   "metadata": {},
   "outputs": [
    {
     "name": "stdout",
     "output_type": "stream",
     "text": [
      "[[0, 0, 0, 0, 0], [1, 1, 1, 1, 1], [2, 2, 2, 2, 2], [3, 3, 3, 3, 3], [4, 4, 4, 4, 4]]\n"
     ]
    }
   ],
   "source": [
    "print([np.full(5,i).tolist() for i in np.arange(5)])"
   ]
  },
  {
   "cell_type": "markdown",
   "metadata": {},
   "source": [
    "#### 38. Consider a generator function that generates 10 integers and use it to build an array (★☆☆)"
   ]
  },
  {
   "cell_type": "code",
   "execution_count": 38,
   "metadata": {},
   "outputs": [
    {
     "name": "stdout",
     "output_type": "stream",
     "text": [
      "[28 18 14 46 36 35 49  1  8 28]\n"
     ]
    }
   ],
   "source": [
    "def gener():\n",
    "    for i in np.random.randint(50,size=10):\n",
    "        yield i\n",
    "a = gener() \n",
    "arr = np.array([],dtype = int)\n",
    "for j in range(10):\n",
    "    arr = np.append(arr,a.__next__())\n",
    "print(arr)\n"
   ]
  },
  {
   "cell_type": "markdown",
   "metadata": {},
   "source": [
    "#### 39. Create a vector of size 10 with values ranging from 0 to 1, both excluded (★★☆)"
   ]
  },
  {
   "cell_type": "code",
   "execution_count": 19,
   "metadata": {},
   "outputs": [
    {
     "name": "stdout",
     "output_type": "stream",
     "text": [
      "[0.67817766 0.67817766 0.67817766 0.67817766 0.67817766 0.67817766\n",
      " 0.67817766 0.67817766 0.67817766 0.67817766]\n"
     ]
    }
   ],
   "source": [
    "x = np.random.random(size=10)\n",
    "x = np.where(x > 0,np.random.rand(),x)\n",
    "print(x)"
   ]
  },
  {
   "cell_type": "markdown",
   "metadata": {},
   "source": [
    "#### 40. Create a random vector of size 10 and sort it (★★☆)"
   ]
  },
  {
   "cell_type": "code",
   "execution_count": 20,
   "metadata": {},
   "outputs": [
    {
     "name": "stdout",
     "output_type": "stream",
     "text": [
      "[ 4  7  7  9 10 10 11 17 18 19]\n"
     ]
    }
   ],
   "source": [
    "x = np.random.randint(20,size=10) \n",
    "x = np.sort(x)\n",
    "print(x)"
   ]
  },
  {
   "cell_type": "markdown",
   "metadata": {},
   "source": [
    "#### 41. How to sum a small array faster than np.sum? (★★☆)"
   ]
  },
  {
   "cell_type": "code",
   "execution_count": null,
   "metadata": {},
   "outputs": [],
   "source": []
  },
  {
   "cell_type": "markdown",
   "metadata": {},
   "source": [
    "#### 42. Consider two random array A and B, check if they are equal (★★☆)"
   ]
  },
  {
   "cell_type": "code",
   "execution_count": null,
   "metadata": {},
   "outputs": [],
   "source": []
  },
  {
   "cell_type": "markdown",
   "metadata": {},
   "source": [
    "#### 43. Make an array immutable (read-only) (★★☆)"
   ]
  },
  {
   "cell_type": "code",
   "execution_count": null,
   "metadata": {},
   "outputs": [],
   "source": []
  },
  {
   "cell_type": "markdown",
   "metadata": {},
   "source": [
    "#### 44. Consider a random 10x2 matrix representing cartesian coordinates, convert them to polar coordinates (★★☆)"
   ]
  },
  {
   "cell_type": "code",
   "execution_count": null,
   "metadata": {},
   "outputs": [],
   "source": []
  },
  {
   "cell_type": "markdown",
   "metadata": {},
   "source": [
    "#### 45. Create random vector of size 10 and replace the maximum value by 0 (★★☆)"
   ]
  },
  {
   "cell_type": "code",
   "execution_count": 27,
   "metadata": {},
   "outputs": [
    {
     "name": "stdout",
     "output_type": "stream",
     "text": [
      "[ 0  8  8 15 18  0  0 18  3  4  8  7 17 13  7]\n",
      "[ 0  8  8 15  0  0  0  0  3  4  8  7 17 13  7]\n"
     ]
    }
   ],
   "source": [
    "x = np.random.randint(20,size=10)\n",
    "print(x)\n",
    "x = np.where(x == np.max(x), 0, x)\n",
    "print(x)"
   ]
  },
  {
   "cell_type": "markdown",
   "metadata": {},
   "source": [
    "#### 46. Create a structured array with `x` and `y` coordinates covering the \\[0,1\\]x\\[0,1\\] area (★★☆)"
   ]
  },
  {
   "cell_type": "code",
   "execution_count": 43,
   "metadata": {},
   "outputs": [
    {
     "name": "stdout",
     "output_type": "stream",
     "text": [
      "[[(1., 1.) (1., 1.) (1., 1.) (1., 1.) (1., 1.)]\n",
      " [(1., 1.) (1., 1.) (1., 1.) (1., 1.) (1., 1.)]\n",
      " [(1., 1.) (1., 1.) (1., 1.) (1., 1.) (1., 1.)]\n",
      " [(1., 1.) (1., 1.) (1., 1.) (1., 1.) (1., 1.)]\n",
      " [(1., 1.) (1., 1.) (1., 1.) (1., 1.) (1., 1.)]]\n",
      "[[(0.  , 0.  ) (0.25, 0.  ) (0.5 , 0.  ) (0.75, 0.  ) (1.  , 0.  )]\n",
      " [(0.  , 0.25) (0.25, 0.25) (0.5 , 0.25) (0.75, 0.25) (1.  , 0.25)]\n",
      " [(0.  , 0.5 ) (0.25, 0.5 ) (0.5 , 0.5 ) (0.75, 0.5 ) (1.  , 0.5 )]\n",
      " [(0.  , 0.75) (0.25, 0.75) (0.5 , 0.75) (0.75, 0.75) (1.  , 0.75)]\n",
      " [(0.  , 1.  ) (0.25, 1.  ) (0.5 , 1.  ) (0.75, 1.  ) (1.  , 1.  )]]\n",
      "[array([[0.  , 0.25, 0.5 , 0.75, 1.  ],\n",
      "       [0.  , 0.25, 0.5 , 0.75, 1.  ],\n",
      "       [0.  , 0.25, 0.5 , 0.75, 1.  ],\n",
      "       [0.  , 0.25, 0.5 , 0.75, 1.  ],\n",
      "       [0.  , 0.25, 0.5 , 0.75, 1.  ]]), array([[0.  , 0.  , 0.  , 0.  , 0.  ],\n",
      "       [0.25, 0.25, 0.25, 0.25, 0.25],\n",
      "       [0.5 , 0.5 , 0.5 , 0.5 , 0.5 ],\n",
      "       [0.75, 0.75, 0.75, 0.75, 0.75],\n",
      "       [1.  , 1.  , 1.  , 1.  , 1.  ]])]\n"
     ]
    }
   ],
   "source": [
    "x = np.ones((5,5),dtype = [('x',float),('y',float)])\n",
    "\n",
    "print(x)\n",
    "\n",
    "y = np.ones((10,10),dtype = [('x',float),('y',float)])\n",
    "\n",
    "\n",
    "k = np.zeros((5,5), [('x',float),('y',float)])\n",
    "#print(np.linspace(0,1,5))\n",
    "k['x'], k['y'] = np.meshgrid(np.linspace(0,1,5),\n",
    "                             np.linspace(0,1,5))\n",
    "print(k)\n",
    "print(np.meshgrid(np.linspace(0,1,5), np.linspace(0,1,5)))"
   ]
  },
  {
   "cell_type": "markdown",
   "metadata": {},
   "source": [
    "####  47. Given two arrays, X and Y, construct the Cauchy matrix C (Cij =1/(xi - yj))"
   ]
  },
  {
   "cell_type": "code",
   "execution_count": null,
   "metadata": {},
   "outputs": [],
   "source": []
  },
  {
   "cell_type": "markdown",
   "metadata": {},
   "source": [
    "#### 48. Print the minimum and maximum representable value for each numpy scalar type (★★☆)"
   ]
  },
  {
   "cell_type": "code",
   "execution_count": null,
   "metadata": {},
   "outputs": [],
   "source": []
  },
  {
   "cell_type": "markdown",
   "metadata": {},
   "source": [
    "#### 49. How to print all the values of an array? (★★☆)"
   ]
  },
  {
   "cell_type": "code",
   "execution_count": null,
   "metadata": {},
   "outputs": [],
   "source": []
  },
  {
   "cell_type": "markdown",
   "metadata": {},
   "source": [
    "#### 50. How to find the closest value (to a given scalar) in a vector? (★★☆)"
   ]
  },
  {
   "cell_type": "code",
   "execution_count": 38,
   "metadata": {},
   "outputs": [
    {
     "name": "stdout",
     "output_type": "stream",
     "text": [
      "[0.38981577 0.21113295 0.78372559 0.92957601 0.27514013 0.49643231\n",
      " 0.65876536 0.68451082 0.99388145 0.14805681] \n",
      "\n",
      " 3 \n",
      "\n",
      " 0.8905934896711349\n"
     ]
    }
   ],
   "source": [
    "x = np.random.random(10)\n",
    "val = np.random.random()\n",
    "y = np.abs(x - val).argmin()\n",
    "print(x,\"\\n\\n\",y,\"\\n\\n\",val)"
   ]
  },
  {
   "cell_type": "markdown",
   "metadata": {},
   "source": [
    "#### 51. Create a structured array representing a position (x,y) and a color (r,g,b) (★★☆)"
   ]
  },
  {
   "cell_type": "code",
   "execution_count": null,
   "metadata": {},
   "outputs": [],
   "source": []
  },
  {
   "cell_type": "markdown",
   "metadata": {},
   "source": [
    "#### 52. Consider a random vector with shape (100,2) representing coordinates, find point by point distances (★★☆)"
   ]
  },
  {
   "cell_type": "code",
   "execution_count": 9,
   "metadata": {},
   "outputs": [
    {
     "name": "stdout",
     "output_type": "stream",
     "text": [
      "[19 11] [25 44]\n",
      "33.54101966249684\n"
     ]
    }
   ],
   "source": [
    "import numpy as np\n",
    "\n",
    "r = np.random.randint\n",
    "\n",
    "\n",
    "x = np.random.randint(50,size=(100,2))\n",
    "m = len(x) + 1\n",
    "p1, p2 = x[r(m)], x[r(m)]\n",
    "\n",
    "print(p1,p2)\n",
    "print(np.linalg.norm(p2-p1))\n",
    "\n",
    "\n",
    "\n"
   ]
  },
  {
   "cell_type": "markdown",
   "metadata": {},
   "source": [
    "#### 53. How to convert a float (32 bits) array into an integer (32 bits) in place?"
   ]
  },
  {
   "cell_type": "code",
   "execution_count": 17,
   "metadata": {},
   "outputs": [
    {
     "name": "stdout",
     "output_type": "stream",
     "text": [
      "[91.89254657 76.46463373 39.97515293 20.27706872 49.40010944 70.37134798\n",
      " 41.7118645  52.01277306 85.47263524 43.09930147]\n",
      "[91 76 39 20 49 70 41 52 85 43]\n"
     ]
    }
   ],
   "source": [
    "x = np.random.random(10) * 100\n",
    "print(x) #as float\n",
    "\n",
    "print(x.astype(int))"
   ]
  },
  {
   "cell_type": "markdown",
   "metadata": {},
   "source": [
    "#### 54. How to read the following file? (★★☆)"
   ]
  },
  {
   "cell_type": "markdown",
   "metadata": {},
   "source": [
    "```\n",
    "1, 2, 3, 4, 5\n",
    "6,  ,  , 7, 8\n",
    " ,  , 9,10,11\n",
    "```"
   ]
  },
  {
   "cell_type": "code",
   "execution_count": 42,
   "metadata": {},
   "outputs": [
    {
     "name": "stdout",
     "output_type": "stream",
     "text": [
      "[[1 2 3 4 5]\n",
      " [6 None None 7 8]\n",
      " [None None 9 10 11]]\n"
     ]
    }
   ],
   "source": [
    "\n",
    "from io import StringIO\n",
    "\n",
    "# Fake file \n",
    "a = StringIO('''1, 2, 3, 4, 5\\n\n",
    "                6,  ,  , 7, 8\\n\n",
    "                 ,  , 9,10,11\\n''')\n",
    "n = np.genfromtxt(a, delimiter=\",\", dtype=np.int)\n",
    "\n",
    "print(np.where(n != -1,n, None))\n",
    "\n"
   ]
  },
  {
   "cell_type": "markdown",
   "metadata": {},
   "source": [
    "#### 55. What is the equivalent of enumerate for numpy arrays? (★★☆)"
   ]
  },
  {
   "cell_type": "code",
   "execution_count": 61,
   "metadata": {},
   "outputs": [
    {
     "name": "stdout",
     "output_type": "stream",
     "text": [
      "(0, 0) 21\n",
      "(0, 1) 15\n",
      "(0, 2) 3\n",
      "(0, 3) 15\n",
      "(0, 4) 46\n",
      "(1, 0) 43\n",
      "(1, 1) 47\n",
      "(1, 2) 49\n",
      "(1, 3) 38\n",
      "(1, 4) 42\n",
      "(2, 0) 44\n",
      "(2, 1) 10\n",
      "(2, 2) 2\n",
      "(2, 3) 37\n",
      "(2, 4) 23\n",
      "(3, 0) 20\n",
      "(3, 1) 29\n",
      "(3, 2) 5\n",
      "(3, 3) 22\n",
      "(3, 4) 20\n",
      "(4, 0) 15\n",
      "(4, 1) 3\n",
      "(4, 2) 49\n",
      "(4, 3) 7\n",
      "(4, 4) 49\n"
     ]
    }
   ],
   "source": [
    "x = np.random.randint(50, size=(5,5))\n",
    "for i, j in np.ndenumerate(x):\n",
    "    print(i,j)"
   ]
  },
  {
   "cell_type": "markdown",
   "metadata": {},
   "source": [
    "#### 56. Generate a generic 2D Gaussian-like array (★★☆)"
   ]
  },
  {
   "cell_type": "code",
   "execution_count": null,
   "metadata": {},
   "outputs": [],
   "source": []
  },
  {
   "cell_type": "markdown",
   "metadata": {},
   "source": [
    "#### 57. How to randomly place p elements in a 2D array? (★★☆)"
   ]
  },
  {
   "cell_type": "code",
   "execution_count": null,
   "metadata": {},
   "outputs": [],
   "source": []
  },
  {
   "cell_type": "markdown",
   "metadata": {},
   "source": [
    "#### 58. Subtract the mean of each row of a matrix (★★☆)"
   ]
  },
  {
   "cell_type": "code",
   "execution_count": 63,
   "metadata": {},
   "outputs": [
    {
     "name": "stdout",
     "output_type": "stream",
     "text": [
      "[[26 47 16 29 22]\n",
      " [ 5  2 16 12  7]\n",
      " [14 46 42  7 20]\n",
      " [42  7 27 10 32]\n",
      " [44 10  0  8 36]]\n",
      "[[ -2  19 -12   1  -6]\n",
      " [ -3  -6   7   3  -1]\n",
      " [-11  20  16 -18  -5]\n",
      " [ 18 -16   3 -13   8]\n",
      " [ 24  -9 -19 -11  16]]\n"
     ]
    }
   ],
   "source": [
    "x = np.random.randint(50, size=(5,5))\n",
    "print(x)\n",
    "for i in x:\n",
    "    ave = np.mean(i)\n",
    "    for j in range(len(i)):\n",
    "        i[j] -= np.mean(ave)\n",
    "        \n",
    "print(x)"
   ]
  },
  {
   "cell_type": "markdown",
   "metadata": {},
   "source": [
    "#### 59. How to sort an array by the nth column? (★★☆)"
   ]
  },
  {
   "cell_type": "code",
   "execution_count": 82,
   "metadata": {},
   "outputs": [
    {
     "name": "stdout",
     "output_type": "stream",
     "text": [
      "[[40 49 24  1 13]\n",
      " [22  7 11  3 42]\n",
      " [33 17 35 36  3]\n",
      " [ 3 15 17 32 36]\n",
      " [13  5  5 10  6]]\n",
      "[[(33, 17, 35, 36,  3)]\n",
      " [(13,  5,  5, 10,  6)]\n",
      " [(40, 49, 24,  1, 13)]\n",
      " [( 3, 15, 17, 32, 36)]\n",
      " [(22,  7, 11,  3, 42)]]\n"
     ]
    }
   ],
   "source": [
    "x = np.random.randint(50, size=(5,5))\n",
    "print(x)\n",
    "print(np.sort(x.view('i8,i8,i8,i8,i8'), order = ['f4'], axis=0))"
   ]
  },
  {
   "cell_type": "markdown",
   "metadata": {},
   "source": [
    "#### 60. How to tell if a given 2D array has null columns? (★★☆)"
   ]
  },
  {
   "cell_type": "code",
   "execution_count": null,
   "metadata": {},
   "outputs": [],
   "source": []
  },
  {
   "cell_type": "markdown",
   "metadata": {},
   "source": [
    "#### 61. Find the nearest value from a given value in an array (★★☆)"
   ]
  },
  {
   "cell_type": "code",
   "execution_count": 12,
   "metadata": {},
   "outputs": [
    {
     "name": "stdout",
     "output_type": "stream",
     "text": [
      "[13 23 17 31 45 10 25 22 30 31 42  2 33  1  3]\n",
      "13\n"
     ]
    }
   ],
   "source": [
    "x = np.random.randint(50,size=15)\n",
    "print(x)\n",
    "val = 15\n",
    "inx = (np.abs(x - val)).argmin()\n",
    "print(x[inx])"
   ]
  },
  {
   "cell_type": "markdown",
   "metadata": {},
   "source": [
    "#### 62. Considering two arrays with shape (1,3) and (3,1), how to compute their sum using an iterator? (★★☆)"
   ]
  },
  {
   "cell_type": "code",
   "execution_count": null,
   "metadata": {},
   "outputs": [],
   "source": []
  },
  {
   "cell_type": "markdown",
   "metadata": {},
   "source": [
    "#### 63. Create an array class that has a name attribute (★★☆)"
   ]
  },
  {
   "cell_type": "code",
   "execution_count": null,
   "metadata": {},
   "outputs": [],
   "source": []
  },
  {
   "cell_type": "markdown",
   "metadata": {},
   "source": [
    "#### 64. Consider a given vector, how to add 1 to each element indexed by a second vector (be careful with repeated indices)? (★★★)"
   ]
  },
  {
   "cell_type": "code",
   "execution_count": 25,
   "metadata": {},
   "outputs": [
    {
     "name": "stdout",
     "output_type": "stream",
     "text": [
      "[ 6  4  4 36 47  2 32 26 41 36  4 25 32 18 31  7 27 40 16 16]\n",
      "[1. 1. 1. 1. 2. 1. 2. 1. 2. 1. 1. 2. 2. 1. 1. 2. 1. 1. 1. 1.] [ 6 15  4  8 12 11] [ 6  4  4 36 48  2 33 26 42 36  4 26 33 18 31  8 27 40 16 16]\n",
      "\n",
      "\n",
      " [32 32  7 42 34 18 30  0 48 29  5  4  4  8 24 22 27 23 41 21]\n",
      "\n",
      "\n",
      "\n",
      "[32 33  7 43 34 20 33  1 48 30  6  4  7  9 26 22 27 23 43 23]\n"
     ]
    }
   ],
   "source": [
    "import numpy as np\n",
    "x = np.random.randint(50,size=20)\n",
    "ind = np.random.randint(20,size=6)\n",
    "dn = np.ones(20)\n",
    "print(x)\n",
    "for i in ind:\n",
    "    if dn[i] == 1.0:\n",
    "        x[i] = x[i] + 1\n",
    "        dn[i] = 2\n",
    "\n",
    "print(dn,ind,x)\n",
    "\n",
    "#simplified solution - adds multiple times for each \n",
    "x = np.random.randint(50,size=20)\n",
    "print(\"\\n\\n\",x)\n",
    "ind = np.random.randint(20,size=20)\n",
    "np.add.at(x, ind, 1)\n",
    "\n",
    "print(\"\\n\\n\")\n",
    "print(x)"
   ]
  },
  {
   "cell_type": "markdown",
   "metadata": {},
   "source": [
    "#### 65. How to accumulate elements of a vector (X) to an array (F) based on an index list (I)? (★★★)"
   ]
  },
  {
   "cell_type": "code",
   "execution_count": 34,
   "metadata": {},
   "outputs": [
    {
     "name": "stdout",
     "output_type": "stream",
     "text": [
      "7\n",
      "45\n",
      "46\n",
      "30\n",
      "25\n",
      "37\n",
      "[ 7. 45. 46. 30. 25. 37.]\n"
     ]
    }
   ],
   "source": [
    "x = np.random.randint(50,size=20)\n",
    "ind = np.random.randint(20,size=6)\n",
    "F = []\n",
    "for i in ind:\n",
    "    print(x[i])\n",
    "    F = np.append(F, [x[i]])\n",
    "print(F)"
   ]
  },
  {
   "cell_type": "markdown",
   "metadata": {},
   "source": [
    "#### 66. Considering a (w,h,3) image of (dtype=ubyte), compute the number of unique colors (★★★)"
   ]
  },
  {
   "cell_type": "code",
   "execution_count": null,
   "metadata": {},
   "outputs": [],
   "source": []
  },
  {
   "cell_type": "markdown",
   "metadata": {},
   "source": [
    "#### 67. Considering a four dimensions array, how to get sum over the last two axis at once? (★★★)"
   ]
  },
  {
   "cell_type": "code",
   "execution_count": null,
   "metadata": {},
   "outputs": [],
   "source": []
  },
  {
   "cell_type": "markdown",
   "metadata": {},
   "source": [
    "#### 68. Considering a one-dimensional vector D, how to compute means of subsets of D using a vector S of same size describing subset  indices? (★★★)"
   ]
  },
  {
   "cell_type": "code",
   "execution_count": null,
   "metadata": {},
   "outputs": [],
   "source": []
  },
  {
   "cell_type": "markdown",
   "metadata": {},
   "source": [
    "#### 69. How to get the diagonal of a dot product? (★★★)"
   ]
  },
  {
   "cell_type": "code",
   "execution_count": null,
   "metadata": {},
   "outputs": [],
   "source": []
  },
  {
   "cell_type": "markdown",
   "metadata": {},
   "source": [
    "#### 70. Consider the vector \\[1, 2, 3, 4, 5\\], how to build a new vector with 3 consecutive zeros interleaved between each value? (★★★)"
   ]
  },
  {
   "cell_type": "code",
   "execution_count": 48,
   "metadata": {},
   "outputs": [
    {
     "name": "stdout",
     "output_type": "stream",
     "text": [
      "[1 2 3 4 5]\n",
      "[1. 0. 0. 0. 2. 0. 0. 0. 3. 0. 0. 0. 4. 0. 0. 0. 5.]\n"
     ]
    }
   ],
   "source": [
    "x = np.arange(1,6)\n",
    "newV = []\n",
    "for i in x:\n",
    "    newV = np.append(newV, [i,0,0,0])\n",
    "l = len(newV)\n",
    "mask = np.ones(len(newV), dtype=bool) \n",
    "mask[[l-3,l-2,l-1]] =False\n",
    "newV = np.delete(newV,[l-3,l-2,l-1])\n",
    "print(x)\n",
    "print(newV)\n",
    "    "
   ]
  },
  {
   "cell_type": "markdown",
   "metadata": {},
   "source": [
    "#### 71. Consider an array of dimension (5,5,3), how to mulitply it by an array with dimensions (5,5)? (★★★)"
   ]
  },
  {
   "cell_type": "code",
   "execution_count": 79,
   "metadata": {},
   "outputs": [],
   "source": [
    "x = np.random.randint(50, size = (5,5,3))\n",
    "y = np.random.randint(50, size = (5,5))\n",
    "\n",
    "\n",
    "#The None keyword in a matrix selection adds a new axis of size 1 ,\n",
    "#thus adding a dimension to the matrix (2d to 3d thus enabling multiplication)"
   ]
  },
  {
   "cell_type": "markdown",
   "metadata": {},
   "source": [
    "#### 72. How to swap two rows of an array? (★★★)"
   ]
  },
  {
   "cell_type": "code",
   "execution_count": 82,
   "metadata": {},
   "outputs": [
    {
     "name": "stdout",
     "output_type": "stream",
     "text": [
      "[[ 0 35 44 13 49]\n",
      " [21 16 18 32 41]\n",
      " [11 42 17  7 32]\n",
      " [48 46 10 22 23]\n",
      " [45 34  1 30 14]]\n",
      "[[ 0 35 44 13 49]\n",
      " [48 46 10 22 23]\n",
      " [11 42 17  7 32]\n",
      " [21 16 18 32 41]\n",
      " [45 34  1 30 14]]\n"
     ]
    }
   ],
   "source": [
    "a = np.random.randint(50,size= (5,5))\n",
    "print(a)\n",
    "row1 = 1 #user changable variable\n",
    "row2 = 3 #user changabe variable\n",
    "a [[row1, row2]] = a[[row2, row1]]\n",
    "print(a)"
   ]
  },
  {
   "cell_type": "markdown",
   "metadata": {},
   "source": [
    "#### 73. Consider a set of 10 triplets describing 10 triangles (with shared vertices), find the set of unique line segments composing all the  triangles (★★★)"
   ]
  },
  {
   "cell_type": "code",
   "execution_count": null,
   "metadata": {},
   "outputs": [],
   "source": []
  },
  {
   "cell_type": "markdown",
   "metadata": {},
   "source": [
    "#### 74. Given an array C that is a bincount, how to produce an array A such that np.bincount(A) == C? (★★★)"
   ]
  },
  {
   "cell_type": "code",
   "execution_count": 85,
   "metadata": {},
   "outputs": [
    {
     "name": "stdout",
     "output_type": "stream",
     "text": [
      "[3 4 1 4 1 2 2 2 1 0 3 0 1 2 4]\n",
      "\n",
      "\n",
      "\n",
      "[ 0  0  0  1  1  1  1  2  3  3  3  3  4  5  5  6  6  7  7  8 10 10 10 12\n",
      " 13 13 14 14 14 14]\n"
     ]
    }
   ],
   "source": [
    "bc = np.random.randint(5, size = 15)\n",
    "result = np.repeat(np.arange(bc.size), bc)\n",
    "\n",
    "\n",
    "print(bc)\n",
    "print(\"\\n\\n\")\n",
    "print(result)"
   ]
  },
  {
   "cell_type": "markdown",
   "metadata": {},
   "source": [
    "#### 75. How to compute averages using a sliding window over an array? (★★★)"
   ]
  },
  {
   "cell_type": "code",
   "execution_count": 55,
   "metadata": {},
   "outputs": [
    {
     "name": "stdout",
     "output_type": "stream",
     "text": [
      "[39 35 49 48 15 33 29 28 38 39 39 43 18  0 27 32  2 43 48  1]\n",
      "[37.2 28.6 35.4 15.8]\n"
     ]
    }
   ],
   "source": [
    "a = np.random.randint(50,size=20)\n",
    "width = 5 #user defined variable\n",
    "step = 4 #user defined variable\n",
    "averages = []\n",
    "i = 0\n",
    "while i + width < len(a):\n",
    "    averages = np.append(averages, np.mean(a[i:i + width]))\n",
    "    i = i + step\n",
    "print(a)\n",
    "print(averages)"
   ]
  },
  {
   "cell_type": "markdown",
   "metadata": {},
   "source": [
    "#### 76. Consider a one-dimensional array Z, build a two-dimensional array whose first row is (Z\\[0\\],Z\\[1\\],Z\\[2\\]) and each subsequent row is  shifted by 1 (last row should be (Z\\[-3\\],Z\\[-2\\],Z\\[-1\\]) (★★★)"
   ]
  },
  {
   "cell_type": "code",
   "execution_count": null,
   "metadata": {},
   "outputs": [],
   "source": []
  },
  {
   "cell_type": "markdown",
   "metadata": {},
   "source": [
    "#### 77. How to negate a boolean, or to change the sign of a float inplace? (★★★)"
   ]
  },
  {
   "cell_type": "code",
   "execution_count": null,
   "metadata": {},
   "outputs": [],
   "source": []
  },
  {
   "cell_type": "markdown",
   "metadata": {},
   "source": [
    "#### 78. Consider 2 sets of points P0,P1 describing lines (2d) and a point p, how to compute distance from p to each line i  (P0\\[i\\],P1\\[i\\])? (★★★)"
   ]
  },
  {
   "cell_type": "code",
   "execution_count": null,
   "metadata": {},
   "outputs": [],
   "source": []
  },
  {
   "cell_type": "markdown",
   "metadata": {},
   "source": [
    "#### 79. Consider 2 sets of points P0,P1 describing lines (2d) and a set of points P, how to compute distance from each point j (P\\[j\\]) to each line i (P0\\[i\\],P1\\[i\\])? (★★★)"
   ]
  },
  {
   "cell_type": "code",
   "execution_count": null,
   "metadata": {},
   "outputs": [],
   "source": []
  },
  {
   "cell_type": "markdown",
   "metadata": {},
   "source": [
    "#### 80. Consider an arbitrary array, write a function that extract a subpart with a fixed shape and centered on a given element (pad with a `fill` value when necessary) (★★★)"
   ]
  },
  {
   "cell_type": "code",
   "execution_count": null,
   "metadata": {},
   "outputs": [],
   "source": []
  },
  {
   "cell_type": "markdown",
   "metadata": {},
   "source": [
    "#### 81. Consider an array Z = \\[1,2,3,4,5,6,7,8,9,10,11,12,13,14\\], how to generate an array R = \\[\\[1,2,3,4\\], \\[2,3,4,5\\], \\[3,4,5,6\\], ..., \\[11,12,13,14\\]\\]? (★★★)"
   ]
  },
  {
   "cell_type": "code",
   "execution_count": null,
   "metadata": {},
   "outputs": [],
   "source": []
  },
  {
   "cell_type": "markdown",
   "metadata": {},
   "source": [
    "#### 82. Compute a matrix rank (★★★)"
   ]
  },
  {
   "cell_type": "code",
   "execution_count": null,
   "metadata": {},
   "outputs": [],
   "source": []
  },
  {
   "cell_type": "markdown",
   "metadata": {},
   "source": [
    "#### 83. How to find the most frequent value in an array?"
   ]
  },
  {
   "cell_type": "code",
   "execution_count": 77,
   "metadata": {},
   "outputs": [
    {
     "name": "stdout",
     "output_type": "stream",
     "text": [
      "33\n",
      "33\n"
     ]
    }
   ],
   "source": [
    "a = np.random.randint(50,size= 1000)\n",
    "bina = np.bincount(a)\n",
    "print(np.argmax(bina))"
   ]
  },
  {
   "cell_type": "markdown",
   "metadata": {},
   "source": [
    "#### 84. Extract all the contiguous 3x3 blocks from a random 10x10 matrix (★★★)"
   ]
  },
  {
   "cell_type": "code",
   "execution_count": null,
   "metadata": {},
   "outputs": [],
   "source": []
  },
  {
   "cell_type": "markdown",
   "metadata": {},
   "source": [
    "#### 85. Create a 2D array subclass such that Z\\[i,j\\] == Z\\[j,i\\] (★★★)"
   ]
  },
  {
   "cell_type": "code",
   "execution_count": null,
   "metadata": {},
   "outputs": [],
   "source": []
  },
  {
   "cell_type": "markdown",
   "metadata": {},
   "source": [
    "#### 86. Consider a set of p matrices wich shape (n,n) and a set of p vectors with shape (n,1). How to compute the sum of of the p matrix products at once? (result has shape (n,1)) (★★★)"
   ]
  },
  {
   "cell_type": "code",
   "execution_count": null,
   "metadata": {},
   "outputs": [],
   "source": []
  },
  {
   "cell_type": "markdown",
   "metadata": {},
   "source": [
    "#### 87. Consider a 16x16 array, how to get the block-sum (block size is 4x4)? (★★★)"
   ]
  },
  {
   "cell_type": "code",
   "execution_count": null,
   "metadata": {},
   "outputs": [],
   "source": []
  },
  {
   "cell_type": "markdown",
   "metadata": {},
   "source": [
    "#### 88. How to implement the Game of Life using numpy arrays? (★★★)"
   ]
  },
  {
   "cell_type": "code",
   "execution_count": null,
   "metadata": {},
   "outputs": [],
   "source": []
  },
  {
   "cell_type": "markdown",
   "metadata": {},
   "source": [
    "#### 89. How to get the n largest values of an array (★★★)"
   ]
  },
  {
   "cell_type": "code",
   "execution_count": 81,
   "metadata": {},
   "outputs": [
    {
     "name": "stdout",
     "output_type": "stream",
     "text": [
      "24\n",
      "30\n",
      "44\n",
      "11\n",
      "13\n"
     ]
    }
   ],
   "source": [
    "def n_largest(arr, n):\n",
    "    binary = np.bincount(arr)\n",
    "    \n",
    "    for i in np.arange(n):\n",
    "        j = np.argmax(binary)\n",
    "        print(j)\n",
    "        binary[j] = 0\n",
    "        \n",
    "a = np.random.randint(50,size= 1000)\n",
    "n = 5 \n",
    "n_largest(a,n)"
   ]
  },
  {
   "cell_type": "markdown",
   "metadata": {},
   "source": [
    "#### 90. Given an arbitrary number of vectors, build the cartesian product (every combinations of every item) (★★★)"
   ]
  },
  {
   "cell_type": "code",
   "execution_count": null,
   "metadata": {
    "scrolled": true
   },
   "outputs": [],
   "source": []
  },
  {
   "cell_type": "markdown",
   "metadata": {},
   "source": [
    "#### 91. How to create a record array from a regular array? (★★★)"
   ]
  },
  {
   "cell_type": "code",
   "execution_count": null,
   "metadata": {},
   "outputs": [],
   "source": []
  },
  {
   "cell_type": "markdown",
   "metadata": {},
   "source": [
    "#### 92. Consider a large vector Z, compute Z to the power of 3 using 3 different methods (★★★)"
   ]
  },
  {
   "cell_type": "code",
   "execution_count": null,
   "metadata": {},
   "outputs": [],
   "source": []
  },
  {
   "cell_type": "markdown",
   "metadata": {},
   "source": [
    "#### 93. Consider two arrays A and B of shape (8,3) and (2,2). How to find rows of A that contain elements of each row of B regardless of the order of the elements in B? (★★★)"
   ]
  },
  {
   "cell_type": "code",
   "execution_count": null,
   "metadata": {},
   "outputs": [],
   "source": []
  },
  {
   "cell_type": "markdown",
   "metadata": {},
   "source": [
    "#### 94. Considering a 10x3 matrix, extract rows with unequal values (e.g. \\[2,2,3\\]) (★★★)"
   ]
  },
  {
   "cell_type": "code",
   "execution_count": null,
   "metadata": {},
   "outputs": [],
   "source": []
  },
  {
   "cell_type": "markdown",
   "metadata": {},
   "source": [
    "#### 95. Convert a vector of ints into a matrix binary representation (★★★)"
   ]
  },
  {
   "cell_type": "code",
   "execution_count": null,
   "metadata": {},
   "outputs": [],
   "source": []
  },
  {
   "cell_type": "markdown",
   "metadata": {},
   "source": [
    "#### 96. Given a two dimensional array, how to extract unique rows? (★★★)"
   ]
  },
  {
   "cell_type": "code",
   "execution_count": null,
   "metadata": {},
   "outputs": [],
   "source": []
  },
  {
   "cell_type": "markdown",
   "metadata": {},
   "source": [
    "#### 97. Considering 2 vectors A & B, write the einsum equivalent of inner, outer, sum, and mul function (★★★)"
   ]
  },
  {
   "cell_type": "code",
   "execution_count": null,
   "metadata": {},
   "outputs": [],
   "source": []
  },
  {
   "cell_type": "markdown",
   "metadata": {},
   "source": [
    "#### 98. Considering a path described by two vectors (X,Y), how to sample it using equidistant samples (★★★)?"
   ]
  },
  {
   "cell_type": "code",
   "execution_count": null,
   "metadata": {
    "collapsed": true
   },
   "outputs": [],
   "source": []
  },
  {
   "cell_type": "markdown",
   "metadata": {},
   "source": [
    "#### 99. Given an integer n and a 2D array X, select from X the rows which can be interpreted as draws from a multinomial distribution with n degrees, i.e., the rows which only contain integers and which sum to n. (★★★)"
   ]
  },
  {
   "cell_type": "code",
   "execution_count": null,
   "metadata": {},
   "outputs": [],
   "source": []
  },
  {
   "cell_type": "markdown",
   "metadata": {},
   "source": [
    "#### 100. Compute bootstrapped 95% confidence intervals for the mean of a 1D array X (i.e., resample the elements of an array with replacement N times, compute the mean of each sample, and then compute percentiles over the means). (★★★)"
   ]
  },
  {
   "cell_type": "code",
   "execution_count": null,
   "metadata": {},
   "outputs": [],
   "source": []
  }
 ],
 "metadata": {
  "kernelspec": {
   "display_name": "Python 3",
   "language": "python",
   "name": "python3"
  },
  "language_info": {
   "codemirror_mode": {
    "name": "ipython",
    "version": 3
   },
   "file_extension": ".py",
   "mimetype": "text/x-python",
   "name": "python",
   "nbconvert_exporter": "python",
   "pygments_lexer": "ipython3",
   "version": "3.7.3"
  }
 },
 "nbformat": 4,
 "nbformat_minor": 1
}
